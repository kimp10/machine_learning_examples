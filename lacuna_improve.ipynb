{
  "metadata": {
    "kernelspec": {
      "display_name": "Python 3",
      "name": "python3"
    },
    "language_info": {
      "name": "python",
      "version": "3.10.16",
      "mimetype": "text/x-python",
      "codemirror_mode": {
        "name": "ipython",
        "version": 3
      },
      "pygments_lexer": "ipython3",
      "nbconvert_exporter": "python",
      "file_extension": ".py"
    },
    "kaggle": {
      "accelerator": "tpu1vmV38",
      "dataSources": [
        {
          "sourceId": 10783793,
          "sourceType": "datasetVersion",
          "datasetId": 6691299
        }
      ],
      "dockerImageVersionId": 30887,
      "isInternetEnabled": false,
      "language": "python",
      "sourceType": "notebook",
      "isGpuEnabled": false
    },
    "colab": {
      "name": "lacuna improve",
      "provenance": [],
      "gpuType": "V28",
      "include_colab_link": true
    },
    "accelerator": "TPU"
  },
  "nbformat_minor": 0,
  "nbformat": 4,
  "cells": [
    {
      "cell_type": "markdown",
      "metadata": {
        "id": "view-in-github",
        "colab_type": "text"
      },
      "source": [
        "<a href=\"https://colab.research.google.com/github/kimp10/machine_learning_examples/blob/master/lacuna_improve.ipynb\" target=\"_parent\"><img src=\"https://colab.research.google.com/assets/colab-badge.svg\" alt=\"Open In Colab\"/></a>"
      ]
    },
    {
      "source": [
        "# IMPORTANT: RUN THIS CELL IN ORDER TO IMPORT YOUR KAGGLE DATA SOURCES,\n",
        "# THEN FEEL FREE TO DELETE THIS CELL.\n",
        "# NOTE: THIS NOTEBOOK ENVIRONMENT DIFFERS FROM KAGGLE'S PYTHON\n",
        "# ENVIRONMENT SO THERE MAY BE MISSING LIBRARIES USED BY YOUR\n",
        "# NOTEBOOK.\n",
        "import kagglehub\n",
        "kimp1995_lacuna_solar_survey_challenge_path = kagglehub.dataset_download('kimp1995/lacuna-solar-survey-challenge')\n",
        "\n",
        "print('Data source import complete.')\n"
      ],
      "metadata": {
        "id": "PKn2Lbeo3SEn",
        "outputId": "3d0b76ac-3f0d-4675-feae-a2a68c93e405",
        "colab": {
          "base_uri": "https://localhost:8080/"
        }
      },
      "cell_type": "code",
      "outputs": [
        {
          "output_type": "stream",
          "name": "stdout",
          "text": [
            "Warning: Looks like you're using an outdated `kagglehub` version (installed: 0.3.7), please consider upgrading to the latest version (0.3.8).\n",
            "Downloading from https://www.kaggle.com/api/v1/datasets/download/kimp1995/lacuna-solar-survey-challenge?dataset_version_number=2...\n"
          ]
        },
        {
          "output_type": "stream",
          "name": "stderr",
          "text": [
            "100%|██████████| 18.0G/18.0G [02:31<00:00, 128MB/s]"
          ]
        },
        {
          "output_type": "stream",
          "name": "stdout",
          "text": [
            "Extracting files...\n"
          ]
        },
        {
          "output_type": "stream",
          "name": "stderr",
          "text": [
            "\n"
          ]
        },
        {
          "output_type": "stream",
          "name": "stdout",
          "text": [
            "Data source import complete.\n"
          ]
        }
      ],
      "execution_count": 1
    },
    {
      "cell_type": "code",
      "source": [
        "pip install ultralytics --upgrade\n"
      ],
      "metadata": {
        "_uuid": "8f2839f25d086af736a60e9eeb907d3b93b6e0e5",
        "_cell_guid": "b1076dfc-b9ad-4769-8c92-a6c4dae69d19",
        "trusted": true,
        "id": "PvjXkgzC3SEq",
        "outputId": "57977a36-411a-41ce-a84b-b1b19ad7eca0",
        "colab": {
          "base_uri": "https://localhost:8080/"
        }
      },
      "outputs": [
        {
          "output_type": "stream",
          "name": "stdout",
          "text": [
            "Collecting ultralytics\n",
            "  Downloading ultralytics-8.3.78-py3-none-any.whl.metadata (35 kB)\n",
            "Requirement already satisfied: numpy<=2.1.1,>=1.23.0 in /usr/local/lib/python3.11/dist-packages (from ultralytics) (1.26.4)\n",
            "Requirement already satisfied: matplotlib>=3.3.0 in /usr/local/lib/python3.11/dist-packages (from ultralytics) (3.10.0)\n",
            "Requirement already satisfied: opencv-python>=4.6.0 in /usr/local/lib/python3.11/dist-packages (from ultralytics) (4.11.0.86)\n",
            "Requirement already satisfied: pillow>=7.1.2 in /usr/local/lib/python3.11/dist-packages (from ultralytics) (11.1.0)\n",
            "Requirement already satisfied: pyyaml>=5.3.1 in /usr/local/lib/python3.11/dist-packages (from ultralytics) (6.0.2)\n",
            "Requirement already satisfied: requests>=2.23.0 in /usr/local/lib/python3.11/dist-packages (from ultralytics) (2.32.3)\n",
            "Requirement already satisfied: scipy>=1.4.1 in /usr/local/lib/python3.11/dist-packages (from ultralytics) (1.13.1)\n",
            "Requirement already satisfied: torch>=1.8.0 in /usr/local/lib/python3.11/dist-packages (from ultralytics) (2.5.1+cpu)\n",
            "Requirement already satisfied: torchvision>=0.9.0 in /usr/local/lib/python3.11/dist-packages (from ultralytics) (0.20.1+cpu)\n",
            "Requirement already satisfied: tqdm>=4.64.0 in /usr/local/lib/python3.11/dist-packages (from ultralytics) (4.67.1)\n",
            "Requirement already satisfied: psutil in /usr/local/lib/python3.11/dist-packages (from ultralytics) (5.9.5)\n",
            "Collecting py-cpuinfo (from ultralytics)\n",
            "  Downloading py_cpuinfo-9.0.0-py3-none-any.whl.metadata (794 bytes)\n",
            "Requirement already satisfied: pandas>=1.1.4 in /usr/local/lib/python3.11/dist-packages (from ultralytics) (2.2.2)\n",
            "Requirement already satisfied: seaborn>=0.11.0 in /usr/local/lib/python3.11/dist-packages (from ultralytics) (0.13.2)\n",
            "Collecting ultralytics-thop>=2.0.0 (from ultralytics)\n",
            "  Downloading ultralytics_thop-2.0.14-py3-none-any.whl.metadata (9.4 kB)\n",
            "Requirement already satisfied: contourpy>=1.0.1 in /usr/local/lib/python3.11/dist-packages (from matplotlib>=3.3.0->ultralytics) (1.3.1)\n",
            "Requirement already satisfied: cycler>=0.10 in /usr/local/lib/python3.11/dist-packages (from matplotlib>=3.3.0->ultralytics) (0.12.1)\n",
            "Requirement already satisfied: fonttools>=4.22.0 in /usr/local/lib/python3.11/dist-packages (from matplotlib>=3.3.0->ultralytics) (4.56.0)\n",
            "Requirement already satisfied: kiwisolver>=1.3.1 in /usr/local/lib/python3.11/dist-packages (from matplotlib>=3.3.0->ultralytics) (1.4.8)\n",
            "Requirement already satisfied: packaging>=20.0 in /usr/local/lib/python3.11/dist-packages (from matplotlib>=3.3.0->ultralytics) (24.2)\n",
            "Requirement already satisfied: pyparsing>=2.3.1 in /usr/local/lib/python3.11/dist-packages (from matplotlib>=3.3.0->ultralytics) (3.2.1)\n",
            "Requirement already satisfied: python-dateutil>=2.7 in /usr/local/lib/python3.11/dist-packages (from matplotlib>=3.3.0->ultralytics) (2.9.0.post0)\n",
            "Requirement already satisfied: pytz>=2020.1 in /usr/local/lib/python3.11/dist-packages (from pandas>=1.1.4->ultralytics) (2025.1)\n",
            "Requirement already satisfied: tzdata>=2022.7 in /usr/local/lib/python3.11/dist-packages (from pandas>=1.1.4->ultralytics) (2025.1)\n",
            "Requirement already satisfied: charset-normalizer<4,>=2 in /usr/local/lib/python3.11/dist-packages (from requests>=2.23.0->ultralytics) (3.4.1)\n",
            "Requirement already satisfied: idna<4,>=2.5 in /usr/local/lib/python3.11/dist-packages (from requests>=2.23.0->ultralytics) (3.10)\n",
            "Requirement already satisfied: urllib3<3,>=1.21.1 in /usr/local/lib/python3.11/dist-packages (from requests>=2.23.0->ultralytics) (2.3.0)\n",
            "Requirement already satisfied: certifi>=2017.4.17 in /usr/local/lib/python3.11/dist-packages (from requests>=2.23.0->ultralytics) (2025.1.31)\n",
            "Requirement already satisfied: filelock in /usr/local/lib/python3.11/dist-packages (from torch>=1.8.0->ultralytics) (3.17.0)\n",
            "Requirement already satisfied: typing-extensions>=4.8.0 in /usr/local/lib/python3.11/dist-packages (from torch>=1.8.0->ultralytics) (4.12.2)\n",
            "Requirement already satisfied: networkx in /usr/local/lib/python3.11/dist-packages (from torch>=1.8.0->ultralytics) (3.4.2)\n",
            "Requirement already satisfied: jinja2 in /usr/local/lib/python3.11/dist-packages (from torch>=1.8.0->ultralytics) (3.1.5)\n",
            "Requirement already satisfied: fsspec in /usr/local/lib/python3.11/dist-packages (from torch>=1.8.0->ultralytics) (2025.2.0)\n",
            "Requirement already satisfied: sympy==1.13.1 in /usr/local/lib/python3.11/dist-packages (from torch>=1.8.0->ultralytics) (1.13.1)\n",
            "Requirement already satisfied: mpmath<1.4,>=1.1.0 in /usr/local/lib/python3.11/dist-packages (from sympy==1.13.1->torch>=1.8.0->ultralytics) (1.3.0)\n",
            "Requirement already satisfied: six>=1.5 in /usr/local/lib/python3.11/dist-packages (from python-dateutil>=2.7->matplotlib>=3.3.0->ultralytics) (1.17.0)\n",
            "Requirement already satisfied: MarkupSafe>=2.0 in /usr/local/lib/python3.11/dist-packages (from jinja2->torch>=1.8.0->ultralytics) (3.0.2)\n",
            "Downloading ultralytics-8.3.78-py3-none-any.whl (921 kB)\n",
            "\u001b[2K   \u001b[90m━━━━━━━━━━━━━━━━━━━━━━━━━━━━━━━━━━━━━━━━\u001b[0m \u001b[32m921.5/921.5 kB\u001b[0m \u001b[31m15.7 MB/s\u001b[0m eta \u001b[36m0:00:00\u001b[0m\n",
            "\u001b[?25hDownloading ultralytics_thop-2.0.14-py3-none-any.whl (26 kB)\n",
            "Downloading py_cpuinfo-9.0.0-py3-none-any.whl (22 kB)\n",
            "Installing collected packages: py-cpuinfo, ultralytics-thop, ultralytics\n",
            "Successfully installed py-cpuinfo-9.0.0 ultralytics-8.3.78 ultralytics-thop-2.0.14\n"
          ]
        }
      ],
      "execution_count": 2
    },
    {
      "cell_type": "code",
      "source": [
        "from ultralytics import YOLO\n",
        "import os\n",
        "import pandas as pd\n",
        "import numpy as np\n",
        "import cv2\n",
        "import shutil\n",
        "import yaml\n",
        "import glob\n",
        "import torch\n",
        "from tqdm import tqdm\n",
        "import gc\n"
      ],
      "metadata": {
        "trusted": true,
        "id": "-RwVL98G3SEq",
        "outputId": "a95f132b-a170-48a1-bbc4-551b18275b80",
        "colab": {
          "base_uri": "https://localhost:8080/"
        }
      },
      "outputs": [
        {
          "output_type": "stream",
          "name": "stdout",
          "text": [
            "Creating new Ultralytics Settings v0.0.6 file ✅ \n",
            "View Ultralytics Settings with 'yolo settings' or at '/root/.config/Ultralytics/settings.json'\n",
            "Update Settings with 'yolo settings key=value', i.e. 'yolo settings runs_dir=path/to/dir'. For help see https://docs.ultralytics.com/quickstart/#ultralytics-settings.\n"
          ]
        }
      ],
      "execution_count": 3
    },
    {
      "cell_type": "code",
      "source": [
        "# Load the training dataset\n",
        "train_csv_path = os.path.join(kimp1995_lacuna_solar_survey_challenge_path, \"Train.csv\")\n",
        "test_csv_path = os.path.join(kimp1995_lacuna_solar_survey_challenge_path, \"Test.csv\")\n"
      ],
      "metadata": {
        "id": "0OaBsuMy6opn"
      },
      "execution_count": 18,
      "outputs": []
    },
    {
      "cell_type": "code",
      "source": [
        "import os\n",
        "\n",
        "# Define the images directory\n",
        "images_path = os.path.join(kimp1995_lacuna_solar_survey_challenge_path, \"images\")\n",
        "\n",
        "# List some image files\n",
        "image_files = os.listdir(images_path)[:10]  # Show first 10 images\n",
        "print(\"Sample Images:\", image_files)\n"
      ],
      "metadata": {
        "id": "poWEoERd6xyE",
        "outputId": "d6d38e4a-445a-4cc6-e62f-2fad842a5623",
        "colab": {
          "base_uri": "https://localhost:8080/"
        }
      },
      "execution_count": 20,
      "outputs": [
        {
          "output_type": "stream",
          "name": "stdout",
          "text": [
            "Sample Images: ['ID6j28Vj6pux7AM.jpg', 'IDDnX91KjDPn57N.jpg', 'IDYOAM3GL0qBM.jpg', 'IDgTAXk.jpg', 'IDsq0cQY.jpg', 'IDEU9ZFLr0.jpg', 'IDic5ODIq4o.jpg', 'IDKVu0o7UiNsnD0Kk.jpg', 'IDgQQig.jpg', 'ID72JDsOX11U.jpg']\n"
          ]
        }
      ]
    },
    {
      "cell_type": "code",
      "source": [],
      "metadata": {
        "id": "gxCybXuK7phK",
        "outputId": "d1eccb07-9d64-43e1-d58f-290f45801e74",
        "colab": {
          "base_uri": "https://localhost:8080/"
        }
      },
      "execution_count": 17,
      "outputs": [
        {
          "output_type": "stream",
          "name": "stdout",
          "text": [
            "[Errno 2] No such file or directory: '/IMG_DIR'\n",
            "/content\n"
          ]
        }
      ]
    },
    {
      "cell_type": "code",
      "source": [
        "# Define paths\n",
        "ROOT_DIR = \"/content/sample_data\"\n",
        "IMG_DIR = os.path.join(images_path, \"images\")\n",
        "\n",
        "# Create required folders\n",
        "for folder in [\"images/train\", \"images/val\", \"labels/train\", \"labels/val\"]:\n",
        "    os.makedirs(os.path.join(ROOT_DIR, folder), exist_ok=True)\n",
        "\n",
        "# Split dataset (80% train, 20% val)\n",
        "df = pd.read_csv(train_csv_path)\n",
        "train_df = df.sample(frac=0.8, random_state=42)\n",
        "val_df = df.drop(train_df.index)\n",
        "\n",
        "# Create symbolic links for images\n",
        "for subset, data in [(\"train\", train_df), (\"val\", val_df)]:\n",
        "    for _, row in tqdm(data.iterrows(), total=len(data)):\n",
        "        img_path = os.path.join(IMG_DIR, row[\"ID\"] + \".jpg\")\n",
        "        symlink_path = os.path.join(ROOT_DIR, \"images\", subset, row[\"ID\"] + \".jpg\")\n",
        "\n",
        "        if os.path.exists(img_path):\n",
        "            # Remove existing symlink if it exists\n",
        "            if os.path.exists(symlink_path) or os.path.islink(symlink_path):\n",
        "                os.unlink(symlink_path)  # Remove old symlink\n",
        "            os.symlink(img_path, symlink_path)  # Create new symlink\n"
      ],
      "metadata": {
        "trusted": true,
        "id": "EFgu7C5D3SEq",
        "outputId": "432c289f-dd92-42f0-dd92-35a3901ec4b1",
        "colab": {
          "base_uri": "https://localhost:8080/"
        }
      },
      "outputs": [
        {
          "output_type": "stream",
          "name": "stderr",
          "text": [
            "100%|██████████| 5433/5433 [00:00<00:00, 7589.78it/s]\n",
            "100%|██████████| 1358/1358 [00:00<00:00, 8057.76it/s]\n"
          ]
        }
      ],
      "execution_count": 21
    },
    {
      "cell_type": "code",
      "source": [
        "# Define class mapping\n",
        "CLASS_MAPPING = {\"pan_nbr\": 0, \"boil_nbr\": 1}\n",
        "\n",
        "import numpy as np\n",
        "\n",
        "import ast  # More secure than eval()\n",
        "\n",
        "def convert_polygon_to_yolo(polygon, img_width, img_height):\n",
        "    \"\"\"Convert polygon coordinates to YOLO format (x_center, y_center, width, height).\"\"\"\n",
        "    if pd.isna(polygon) or polygon == \"nan\":  # Check for NaN values\n",
        "        return None, None, None, None  # Return empty values if polygon is missing\n",
        "\n",
        "    # Replace 'nan' with 'None' to prevent errors\n",
        "    safe_polygon = polygon.replace(\"nan\", \"None\") if isinstance(polygon, str) else polygon\n",
        "\n",
        "    try:\n",
        "        polygon = ast.literal_eval(safe_polygon)  # Safely convert string to list\n",
        "    except (SyntaxError, ValueError):\n",
        "        return None, None, None, None  # Handle cases where conversion fails\n",
        "\n",
        "    # **Filter out None values**\n",
        "    polygon = [p for p in polygon if p is not None and len(p) == 2 and all(isinstance(coord, (int, float)) for coord in p)]\n",
        "\n",
        "    if not polygon:  # If empty after filtering, return None\n",
        "        return None, None, None, None\n",
        "\n",
        "    x_min = min(p[0] for p in polygon)\n",
        "    x_max = max(p[0] for p in polygon)\n",
        "    y_min = min(p[1] for p in polygon)\n",
        "    y_max = max(p[1] for p in polygon)\n",
        "\n",
        "    # Convert to YOLO format\n",
        "    x_c = (x_min + x_max) / 2 / img_width\n",
        "    y_c = (y_min + y_max) / 2 / img_height\n",
        "    w_c = (x_max - x_min) / img_width\n",
        "    h_c = (y_max - y_min) / img_height\n",
        "\n",
        "    return x_c, y_c, w_c, h_c\n",
        "\n",
        "# Generate YOLO labels\n",
        "for subset, data in [(\"train\", train_df), (\"val\", val_df)]:\n",
        "    for _, row in tqdm(data.iterrows(), total=len(data)):\n",
        "        img_path = os.path.join(IMG_DIR, row[\"ID\"] + \".jpg\")\n",
        "        if not os.path.exists(img_path):\n",
        "            continue\n",
        "\n",
        "        h, w, _ = cv2.imread(img_path).shape  # Get image dimensions\n",
        "\n",
        "        yolo_annotations = []\n",
        "        for obj, class_id in CLASS_MAPPING.items():\n",
        "            if row[obj] > 0:\n",
        "                x_c, y_c, w_c, h_c = convert_polygon_to_yolo(row[\"polygon\"], w, h)\n",
        "                yolo_annotations.append(f\"{class_id} {x_c} {y_c} {w_c} {h_c}\")\n",
        "\n",
        "        # Save annotation file\n",
        "        label_path = os.path.join(ROOT_DIR, \"labels\", subset, row[\"ID\"] + \".txt\")\n",
        "        with open(label_path, \"w\") as f:\n",
        "            f.write(\"\\n\".join(yolo_annotations))\n"
      ],
      "metadata": {
        "trusted": true,
        "id": "hb2o-Q1T3SEq",
        "outputId": "8f47d44f-4a13-47aa-89e9-be63e4655ce7",
        "colab": {
          "base_uri": "https://localhost:8080/"
        }
      },
      "outputs": [
        {
          "output_type": "stream",
          "name": "stderr",
          "text": [
            "100%|██████████| 5433/5433 [10:00<00:00,  9.05it/s]\n",
            "100%|██████████| 1358/1358 [02:34<00:00,  8.81it/s]\n"
          ]
        }
      ],
      "execution_count": 22
    },
    {
      "cell_type": "code",
      "source": [
        "from google.colab import drive\n",
        "drive.mount('/content/drive')"
      ],
      "metadata": {
        "id": "gZN-UJJb5000"
      },
      "execution_count": null,
      "outputs": []
    },
    {
      "cell_type": "code",
      "source": [],
      "metadata": {
        "trusted": true,
        "id": "8e3CGgRj3SEr"
      },
      "outputs": [],
      "execution_count": null
    },
    {
      "cell_type": "code",
      "source": [
        "data_yaml = {\n",
        "    \"train\": f\"{ROOT_DIR}/images/train\",\n",
        "    \"val\": f\"{ROOT_DIR}/images/val\",\n",
        "    \"nc\": 2,\n",
        "    \"names\": [\"solar_panel\", \"solar_boiler\"]\n",
        "}\n",
        "with open(f\"{ROOT_DIR}/data.yaml\", \"w\") as f:\n",
        "    yaml.dump(data_yaml, f)\n"
      ],
      "metadata": {
        "trusted": true,
        "id": "4zUpeGhX3SEr"
      },
      "outputs": [],
      "execution_count": 23
    },
    {
      "cell_type": "code",
      "source": [
        "from ultralytics import YOLO\n",
        "\n",
        "# Load YOLOv11 model (Ensure this exists or use best checkpoint)\n",
        "model = YOLO(\"yolo11n.pt\")\n",
        "\n",
        "# Train the model with improved settings\n",
        "model.train(\n",
        "    data=\"/content/sample_data/data.yaml\",  # Path to dataset YAML\n",
        "    epochs=100,  # Train longer\n",
        "    imgsz=1024,  # Higher resolution for better small object detection\n",
        "    batch=32,  # Increase batch size if GPU allows\n",
        "    optimizer=\"AdamW\",  # Better optimizer\n",
        "    lr0=0.002,  # Adjusted learning rate\n",
        "    momentum=0.937,\n",
        "    weight_decay=0.0005,\n",
        "    patience=20,  # Allow early stopping\n",
        "    device=\"cuda\" if torch.cuda.is_available() else \"cpu\",\n",
        "\n",
        "    # 💡 Advanced Augmentations\n",
        "    hsv_h=0.015,\n",
        "    hsv_s=0.7,\n",
        "    hsv_v=0.4,\n",
        "    degrees=10.0,  # Rotations\n",
        "    translate=0.2,  # Translation\n",
        "    scale=0.8,  # Zoom-in/out\n",
        "    shear=10.0,  # Shear augmentation\n",
        "    perspective=0.001,\n",
        "    fliplr=0.5,  # Flip images horizontally\n",
        "    flipud=0.1,  # Flip vertically (low probability)\n",
        "    mosaic=1.0,  # YOLO mosaic augmentation\n",
        "    mixup=0.1,  # Mixup augmentation\n",
        "    auto_augment=\"randaugment\",  # Auto Augmentation\n",
        "    copy_paste=0.2,  # Copy-Paste augmentation\n",
        "\n",
        "    # 📌 Fine-Tuning\n",
        "    resume=False,  # Continue from last checkpoint\n",
        "    overlap_mask=True,  # Improve segmentation\n",
        "    mask_ratio=4,\n",
        "    label_smoothing=0.05,  # Reduce false positives\n",
        "\n",
        "    # 🔍 Adjust Confidence Threshold for better detection\n",
        "    conf=0.2,  # Lower confidence threshold for detecting small objects\n",
        "    iou=0.5,  # Adjust IoU threshold\n",
        ")\n"
      ],
      "metadata": {
        "trusted": true,
        "id": "UiHPXjki3SEr",
        "outputId": "52d6c2d1-5d21-428b-c0e1-ea3ba99055fa",
        "colab": {
          "base_uri": "https://localhost:8080/"
        }
      },
      "outputs": [
        {
          "output_type": "stream",
          "name": "stdout",
          "text": [
            "WARNING ⚠️ 'label_smoothing' is deprecated and will be removed in in the future.\n",
            "Ultralytics 8.3.78 🚀 Python-3.11.11 torch-2.5.1+cpu CPU (Intel Xeon 2.00GHz)\n",
            "\u001b[34m\u001b[1mengine/trainer: \u001b[0mtask=detect, mode=train, model=yolo11n.pt, data=/content/sample_data/data.yaml, epochs=100, time=None, patience=20, batch=32, imgsz=1024, save=True, save_period=-1, cache=False, device=cpu, workers=8, project=None, name=train, exist_ok=False, pretrained=True, optimizer=AdamW, verbose=True, seed=0, deterministic=True, single_cls=False, rect=False, cos_lr=False, close_mosaic=10, resume=False, amp=True, fraction=1.0, profile=False, freeze=None, multi_scale=False, overlap_mask=True, mask_ratio=4, dropout=0.0, val=True, split=val, save_json=False, save_hybrid=False, conf=0.2, iou=0.5, max_det=300, half=False, dnn=False, plots=True, source=None, vid_stride=1, stream_buffer=False, visualize=False, augment=False, agnostic_nms=False, classes=None, retina_masks=False, embed=None, show=False, save_frames=False, save_txt=False, save_conf=False, save_crop=False, show_labels=True, show_conf=True, show_boxes=True, line_width=None, format=torchscript, keras=False, optimize=False, int8=False, dynamic=False, simplify=True, opset=None, workspace=None, nms=False, lr0=0.002, lrf=0.01, momentum=0.937, weight_decay=0.0005, warmup_epochs=3.0, warmup_momentum=0.8, warmup_bias_lr=0.1, box=7.5, cls=0.5, dfl=1.5, pose=12.0, kobj=1.0, nbs=64, hsv_h=0.015, hsv_s=0.7, hsv_v=0.4, degrees=10.0, translate=0.2, scale=0.8, shear=10.0, perspective=0.001, flipud=0.1, fliplr=0.5, bgr=0.0, mosaic=1.0, mixup=0.1, copy_paste=0.2, copy_paste_mode=flip, auto_augment=randaugment, erasing=0.4, crop_fraction=1.0, cfg=None, tracker=botsort.yaml, save_dir=runs/detect/train\n",
            "Overriding model.yaml nc=80 with nc=2\n",
            "\n",
            "                   from  n    params  module                                       arguments                     \n",
            "  0                  -1  1       464  ultralytics.nn.modules.conv.Conv             [3, 16, 3, 2]                 \n",
            "  1                  -1  1      4672  ultralytics.nn.modules.conv.Conv             [16, 32, 3, 2]                \n",
            "  2                  -1  1      6640  ultralytics.nn.modules.block.C3k2            [32, 64, 1, False, 0.25]      \n",
            "  3                  -1  1     36992  ultralytics.nn.modules.conv.Conv             [64, 64, 3, 2]                \n",
            "  4                  -1  1     26080  ultralytics.nn.modules.block.C3k2            [64, 128, 1, False, 0.25]     \n",
            "  5                  -1  1    147712  ultralytics.nn.modules.conv.Conv             [128, 128, 3, 2]              \n",
            "  6                  -1  1     87040  ultralytics.nn.modules.block.C3k2            [128, 128, 1, True]           \n",
            "  7                  -1  1    295424  ultralytics.nn.modules.conv.Conv             [128, 256, 3, 2]              \n",
            "  8                  -1  1    346112  ultralytics.nn.modules.block.C3k2            [256, 256, 1, True]           \n",
            "  9                  -1  1    164608  ultralytics.nn.modules.block.SPPF            [256, 256, 5]                 \n",
            " 10                  -1  1    249728  ultralytics.nn.modules.block.C2PSA           [256, 256, 1]                 \n",
            " 11                  -1  1         0  torch.nn.modules.upsampling.Upsample         [None, 2, 'nearest']          \n",
            " 12             [-1, 6]  1         0  ultralytics.nn.modules.conv.Concat           [1]                           \n",
            " 13                  -1  1    111296  ultralytics.nn.modules.block.C3k2            [384, 128, 1, False]          \n",
            " 14                  -1  1         0  torch.nn.modules.upsampling.Upsample         [None, 2, 'nearest']          \n",
            " 15             [-1, 4]  1         0  ultralytics.nn.modules.conv.Concat           [1]                           \n",
            " 16                  -1  1     32096  ultralytics.nn.modules.block.C3k2            [256, 64, 1, False]           \n",
            " 17                  -1  1     36992  ultralytics.nn.modules.conv.Conv             [64, 64, 3, 2]                \n",
            " 18            [-1, 13]  1         0  ultralytics.nn.modules.conv.Concat           [1]                           \n",
            " 19                  -1  1     86720  ultralytics.nn.modules.block.C3k2            [192, 128, 1, False]          \n",
            " 20                  -1  1    147712  ultralytics.nn.modules.conv.Conv             [128, 128, 3, 2]              \n",
            " 21            [-1, 10]  1         0  ultralytics.nn.modules.conv.Concat           [1]                           \n",
            " 22                  -1  1    378880  ultralytics.nn.modules.block.C3k2            [384, 256, 1, True]           \n",
            " 23        [16, 19, 22]  1    431062  ultralytics.nn.modules.head.Detect           [2, [64, 128, 256]]           \n",
            "YOLO11n summary: 181 layers, 2,590,230 parameters, 2,590,214 gradients, 6.4 GFLOPs\n",
            "\n",
            "Transferred 448/499 items from pretrained weights\n",
            "\u001b[34m\u001b[1mTensorBoard: \u001b[0mStart with 'tensorboard --logdir runs/detect/train', view at http://localhost:6006/\n",
            "Freezing layer 'model.23.dfl.conv.weight'\n"
          ]
        },
        {
          "output_type": "stream",
          "name": "stderr",
          "text": [
            "\u001b[34m\u001b[1mtrain: \u001b[0mScanning /content/sample_data/labels/train.cache... 2901 images, 0 backgrounds, 10 corrupt: 100%|██████████| 2901/2901 [00:00<?, ?it/s]"
          ]
        },
        {
          "output_type": "stream",
          "name": "stdout",
          "text": [
            "\u001b[34m\u001b[1mtrain: \u001b[0mWARNING ⚠️ /content/sample_data/images/train/ID5vE00zAieZ.jpg: ignoring corrupt image/label: non-normalized or out of bounds coordinates [     1.0202]\n",
            "\u001b[34m\u001b[1mtrain: \u001b[0mWARNING ⚠️ /content/sample_data/images/train/ID6xfy4L1YW.jpg: ignoring corrupt image/label: non-normalized or out of bounds coordinates [      3.728        6.21]\n",
            "\u001b[34m\u001b[1mtrain: \u001b[0mWARNING ⚠️ /content/sample_data/images/train/IDFBDaBjXctMXwGX.jpg: ignoring corrupt image/label: non-normalized or out of bounds coordinates [     1.1862      1.2285]\n",
            "\u001b[34m\u001b[1mtrain: \u001b[0mWARNING ⚠️ /content/sample_data/images/train/IDJjksJEUnO.jpg: ignoring corrupt image/label: non-normalized or out of bounds coordinates [      3.418      5.7533]\n",
            "\u001b[34m\u001b[1mtrain: \u001b[0mWARNING ⚠️ /content/sample_data/images/train/IDL6q17JM2MED3lF.jpg: ignoring corrupt image/label: non-normalized or out of bounds coordinates [     2.0062      3.3026]\n",
            "\u001b[34m\u001b[1mtrain: \u001b[0mWARNING ⚠️ /content/sample_data/images/train/IDNb2NQUUl5wIdi.jpg: ignoring corrupt image/label: non-normalized or out of bounds coordinates [     1.0223]\n",
            "\u001b[34m\u001b[1mtrain: \u001b[0mWARNING ⚠️ /content/sample_data/images/train/IDO7nSZtJD8QI56pK.jpg: ignoring corrupt image/label: non-normalized or out of bounds coordinates [     1.0767]\n",
            "\u001b[34m\u001b[1mtrain: \u001b[0mWARNING ⚠️ /content/sample_data/images/train/IDWOS8t1K4S8bc4.jpg: ignoring corrupt image/label: non-normalized or out of bounds coordinates [      3.041       5.003]\n",
            "\u001b[34m\u001b[1mtrain: \u001b[0mWARNING ⚠️ /content/sample_data/images/train/IDZJJxMc9j.jpg: ignoring corrupt image/label: non-normalized or out of bounds coordinates [     1.0328]\n",
            "\u001b[34m\u001b[1mtrain: \u001b[0mWARNING ⚠️ /content/sample_data/images/train/IDn6FHp8kTZ2L4.jpg: ignoring corrupt image/label: non-normalized or out of bounds coordinates [      2.608      4.7562]\n"
          ]
        },
        {
          "output_type": "stream",
          "name": "stderr",
          "text": [
            "\n",
            "\u001b[34m\u001b[1mval: \u001b[0mScanning /content/sample_data/labels/val.cache... 1044 images, 0 backgrounds, 3 corrupt: 100%|██████████| 1044/1044 [00:00<?, ?it/s]"
          ]
        },
        {
          "output_type": "stream",
          "name": "stdout",
          "text": [
            "\u001b[34m\u001b[1mval: \u001b[0mWARNING ⚠️ /content/sample_data/images/val/IDQT3ndJeVMOYKvm.jpg: ignoring corrupt image/label: non-normalized or out of bounds coordinates [     1.0815]\n",
            "\u001b[34m\u001b[1mval: \u001b[0mWARNING ⚠️ /content/sample_data/images/val/IDS4V13CBJiOe.jpg: ignoring corrupt image/label: non-normalized or out of bounds coordinates [     3.4053      5.7436]\n",
            "\u001b[34m\u001b[1mval: \u001b[0mWARNING ⚠️ /content/sample_data/images/val/IDdtoqJ2zSLQ5mv0q.jpg: ignoring corrupt image/label: non-normalized or out of bounds coordinates [      1.066]\n",
            "Plotting labels to runs/detect/train/labels.jpg... \n"
          ]
        },
        {
          "output_type": "stream",
          "name": "stderr",
          "text": [
            "\n"
          ]
        },
        {
          "output_type": "stream",
          "name": "stdout",
          "text": [
            "\u001b[34m\u001b[1moptimizer:\u001b[0m AdamW(lr=0.002, momentum=0.937) with parameter groups 81 weight(decay=0.0), 88 weight(decay=0.0005), 87 bias(decay=0.0)\n",
            "\u001b[34m\u001b[1mTensorBoard: \u001b[0mmodel graph visualization added ✅\n",
            "Image sizes 1024 train, 1024 val\n",
            "Using 0 dataloader workers\n",
            "Logging results to \u001b[1mruns/detect/train\u001b[0m\n",
            "Starting training for 100 epochs...\n",
            "\n",
            "      Epoch    GPU_mem   box_loss   cls_loss   dfl_loss  Instances       Size\n"
          ]
        },
        {
          "output_type": "stream",
          "name": "stderr",
          "text": [
            "      1/100         0G      1.985       5.64      1.847         69       1024:   3%|▎         | 3/91 [02:00<58:06, 39.61s/it]  "
          ]
        }
      ],
      "execution_count": null
    },
    {
      "cell_type": "code",
      "source": [
        "metrics = model.val()\n",
        "print(metrics)\n"
      ],
      "metadata": {
        "trusted": true,
        "id": "GW2Tn4Q-3SEs"
      },
      "outputs": [],
      "execution_count": null
    },
    {
      "cell_type": "code",
      "source": [
        " #Load the Test.csv file\n",
        "test_csv_path = os.path.join(kimp1995_lacuna_solar_survey_challenge_path, \"Test.csv\")\n",
        "test_df = pd.read_csv(test_csv_path)"
      ],
      "metadata": {
        "trusted": true,
        "id": "HURgK0Q73SEs"
      },
      "outputs": [],
      "execution_count": null
    },
    {
      "cell_type": "code",
      "source": [
        "# Get the list of image IDs from Test.csv\n",
        "test_image_ids = test_df[\"ID\"].tolist()\n",
        "\n",
        "# Set batch size to process images in smaller chunks\n",
        "BATCH_SIZE = 50  # Adjust if needed\n",
        "\n",
        "# Load the trained model\n",
        "model = YOLO(\"/content/sample_data/runs/detect/train/weights/best.pt\")  # Change path if needed\n",
        "\n",
        "# Initialize list for predictions\n",
        "predictions = []\n",
        "\n",
        "# Process test images in small batches to reduce memory usage\n",
        "for i in range(0, len(test_image_ids), BATCH_SIZE):\n",
        "    batch = test_image_ids[i:i + BATCH_SIZE]  # Get batch of image IDs\n",
        "    batch_paths = [os.path.join(IMG_DIR, f\"{img_id}.jpg\") for img_id in batch if os.path.exists(os.path.join(image_dir, f\"{img_id}.jpg\"))]\n",
        "\n",
        "    # Run inference on batch\n",
        "    results = model.predict(source=batch_paths, device=\"cuda\" if torch.cuda.is_available() else \"cpu\", stream=True)\n",
        "\n",
        "    # Process results\n",
        "    for r in results:\n",
        "        image_name = os.path.basename(r.path).replace(\".jpg\", \"\")  # Extract image ID\n",
        "\n",
        "        # If detections exist\n",
        "        if len(r.boxes) > 0:\n",
        "            for box in r.boxes:\n",
        "                x1, y1, x2, y2 = box.xyxy[0].tolist()\n",
        "                conf = box.conf[0].item()\n",
        "                cls = int(box.cls[0].item())\n",
        "\n",
        "                # Append result\n",
        "                predictions.append([image_name, cls, conf])\n",
        "        else:\n",
        "            # No detections\n",
        "            predictions.append([image_name, 0, 0])  # Default to zero detections\n",
        "\n",
        "    # **Free up memory**\n",
        "    del results\n",
        "    torch.cuda.empty_cache()\n",
        "    gc.collect()\n",
        "\n",
        "# Convert to DataFrame\n",
        "df_predictions = pd.DataFrame(predictions, columns=[\"ID\", \"Class\", \"Confidence\"])"
      ],
      "metadata": {
        "trusted": true,
        "id": "ymZGyGaT3SEs"
      },
      "outputs": [],
      "execution_count": null
    },
    {
      "cell_type": "code",
      "source": [
        "df_predictions = pd.DataFrame(predictions, columns=[\"ID\", \"Class\", \"Confidence\"])"
      ],
      "metadata": {
        "trusted": true,
        "id": "finnaCsv3SEs"
      },
      "outputs": [],
      "execution_count": null
    },
    {
      "cell_type": "code",
      "source": [
        "df_predictions['Class'].value_counts()"
      ],
      "metadata": {
        "trusted": true,
        "id": "l_ZvhZjC3SEt"
      },
      "outputs": [],
      "execution_count": null
    },
    {
      "cell_type": "code",
      "source": [
        "# Define class mapping\n",
        "CLASS_MAPPING = {0: \"pan\", 1: \"boil\"}  # 0 -> Solar Panel, 1 -> Solar Boiler\n",
        "\n",
        "# Convert Class ID to column names\n",
        "df_predictions[\"Class\"] = df_predictions[\"Class\"].map(CLASS_MAPPING)\n",
        "\n",
        "# Sum detections per image per class\n",
        "df_submission = df_predictions.pivot_table(index=\"ID\", columns=\"Class\", values=\"Confidence\", aggfunc=\"sum\").reset_index()\n",
        "\n",
        "# Ensure both 'boil' and 'pan' columns exist, filling missing values with 0.0 (as float)\n",
        "for col in [\"boil\", \"pan\"]:\n",
        "    if col not in df_submission.columns:\n",
        "        df_submission[col] = 0.0  # Ensure missing class entries have a value of 0.0\n",
        "\n",
        "# Convert confidence scores to float (not integer)\n",
        "df_submission[[\"boil\", \"pan\"]] = df_submission[[\"boil\", \"pan\"]].fillna(0.0).astype(float)\n",
        "\n",
        "# Transform the DataFrame to match submission format\n",
        "submission_rows = []\n",
        "\n",
        "for _, row in df_submission.iterrows():\n",
        "    submission_rows.append({\"ID\": f\"{row['ID']}_boil\", \"Target\": row[\"boil\"]})\n",
        "    submission_rows.append({\"ID\": f\"{row['ID']}_pan\", \"Target\": row[\"pan\"]})\n",
        "\n",
        "# Convert to DataFrame\n",
        "df_final_submission = pd.DataFrame(submission_rows)"
      ],
      "metadata": {
        "trusted": true,
        "id": "4VPv7Rkf3SEt"
      },
      "outputs": [],
      "execution_count": null
    },
    {
      "cell_type": "code",
      "source": [
        "df_final_submission.head()"
      ],
      "metadata": {
        "trusted": true,
        "id": "ZTlaofF53SEt"
      },
      "outputs": [],
      "execution_count": null
    },
    {
      "cell_type": "code",
      "source": [],
      "metadata": {
        "trusted": true,
        "id": "cWupUAFQ3SEt"
      },
      "outputs": [],
      "execution_count": null
    },
    {
      "cell_type": "code",
      "source": [
        "df_final_submission"
      ],
      "metadata": {
        "trusted": true,
        "id": "KIrlZhEX3SEt"
      },
      "outputs": [],
      "execution_count": null
    },
    {
      "cell_type": "code",
      "source": [
        "# Save submission file\n",
        "submission_path = \"/content/sample_data/submissionyolo11.csv\"\n",
        "df_final_submission.to_csv(submission_path, index=False)\n",
        "\n",
        "print(f\"✅ Submission file saved at: {submission_path}\")"
      ],
      "metadata": {
        "trusted": true,
        "id": "nzjluRgv3SEt"
      },
      "outputs": [],
      "execution_count": null
    },
    {
      "cell_type": "code",
      "source": [],
      "metadata": {
        "trusted": true,
        "id": "XeU4c4Tq3SEt"
      },
      "outputs": [],
      "execution_count": null
    },
    {
      "cell_type": "code",
      "source": [],
      "metadata": {
        "trusted": true,
        "id": "N90gQX653SEt"
      },
      "outputs": [],
      "execution_count": null
    },
    {
      "cell_type": "code",
      "source": [],
      "metadata": {
        "trusted": true,
        "id": "3YIt8jmW3SEt"
      },
      "outputs": [],
      "execution_count": null
    }
  ]
}